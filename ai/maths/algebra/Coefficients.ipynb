{
 "cells": [
  {
   "attachments": {},
   "cell_type": "markdown",
   "metadata": {},
   "source": [
    "# Coefficient\n",
    "\n",
    "In [mathematics](https://en.wikipedia.org/wiki/Mathematics), a __coefficient__ is a multiplicative factor in some [term](https://en.wikipedia.org/wiki/Summand) of a [polynomial](https://en.wikipedia.org/wiki/Polynomial), a [series](https://en.wikipedia.org/wiki/Series_(mathematics)), or an [expression](https://en.wikipedia.org/wiki/Expression_(mathematics)); it is usually a number, but may be any expression (including variables such as $a$, $b$, and $c$). When the coefficients are themselves [variables](https://en.wikipedia.org/wiki/Variable_(mathematics)), they may also be called as [parameters](https://en.wikipedia.org/wiki/Parameter).\n",
    "\n",
    "For example, the polynomial $2x^2 - x + 3$ has coefficients $2$, $-1$, and $3$, and the powers of the variable $x$ in the polynomial $ax^2 + bx + c$ have coefficient parameters $a$, $b$, and $c$.\n",
    "\n",
    "The __constant coefficient__ (also known as the __constant term__, __free coefficient__) is the coefficient not attached to variables in an expression. For example, the constant coefficients of the parameters above are the number $3$ and the parameter $c$, respectively. The coefficient attached to the highest degree of the variable in a polynomial such that it is not equals to $0$, is referred to as the __leading coefficient__. For example, in the above expression the leading coefficients are the number $2$ and the parameter $a$, respectively."
   ]
  },
  {
   "attachments": {},
   "cell_type": "markdown",
   "metadata": {},
   "source": [
    "## Linear Algebra\n",
    "\n",
    "In [Linear algebra](https://en.wikipedia.org/wiki/Linear_algebra), a [system of linear equations](https://en.wikipedia.org/wiki/System_of_linear_equations) is frequently represented by its [coefficient matrix](https://en.wikipedia.org/wiki/Coefficient_matrix). For example, the system of equations\n",
    "\n",
    "$\n",
    "\\begin{cases}\n",
    "2x + 3y = 0, \\\\\n",
    "5x - 4y = 0\n",
    "\\end{cases}\n",
    "$\n",
    "\n",
    "the associated coefficient matrix is\n",
    "$\n",
    "\\begin{pmatrix}\n",
    "2 & 3 \\\\\n",
    "5 & -4\n",
    "\\end{pmatrix}\n",
    "$\n",
    ". Coefficient matrices are used in algorithms such as [Gussian elimination](https://en.wikipedia.org/wiki/Gaussian_elimination) and [Cramer's rule](https://en.wikipedia.org/wiki/Cramer%27s_rule) to find solutions to the system.\n",
    "\n",
    "The __leading entry__ (sometimes $\\mathrm{leading\\ coefficient}^\\mathrm{[citation\\ needed]}$) of a row in a matrix is the first nonzero entry in that row. So, for example, in the matrix\n",
    "\n",
    "$\n",
    "\\begin{pmatrix}\n",
    "1 & 2 & 0 & 6 \\\\\n",
    "0 & 2 & 9 & 4 \\\\\n",
    "0 & 0 & 0 & 4 \\\\\n",
    "0 & 0 & 0 & 0 \\\\\n",
    "\\end{pmatrix}\n",
    "$\n",
    ",\n",
    "\n",
    "the leading coefficient of the first row is $1$, that of the second row is $2$; that of the third row is $4$, while the last row does not have a leading coefficient."
   ]
  }
 ],
 "metadata": {
  "kernelspec": {
   "display_name": "ai",
   "language": "python",
   "name": "python3"
  },
  "language_info": {
   "name": "python",
   "version": "3.8.10 (default, Nov 14 2022, 12:59:47) \n[GCC 9.4.0]"
  },
  "orig_nbformat": 4,
  "vscode": {
   "interpreter": {
    "hash": "d6f2081d9e0b7d32ecec298930d2c84146e44d12c2a59792b9d51f0a2535e83c"
   }
  }
 },
 "nbformat": 4,
 "nbformat_minor": 2
}
