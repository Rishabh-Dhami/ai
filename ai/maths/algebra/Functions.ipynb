{
 "cells": [
  {
   "attachments": {},
   "cell_type": "markdown",
   "metadata": {},
   "source": [
    "# Functions\n",
    "\n",
    "In [mathematics](https://en.wikipedia.org/wiki/Mathematics), a function from a [set](https://en.wikipedia.org/wiki/Set_(mathematics)) $X$ to a set $Y$ assigns to each element of $X$ exactly one element of $Y$. The set $X$ is called the [domain](https://en.wikipedia.org/wiki/Domain_of_a_function) of the function and the set $Y$ is called the [codomain](https://en.wikipedia.org/wiki/Codomain) of the $\\mathrm{function.}^\\mathrm{[citation\\ needed]}$\n",
    "\n",
    "A function is most often denoted by the letters such as $f$, $g$, and $h$, and the value of the function $f$ at an element $x$ of its domain is denoted by $f(x)$; the numerical value resulting from the _function evaluation_ at a particular input value is denoted by replacing $x$ with this value; for example, the value of $f$ at $x=4$ is denoted by $f(4)$. When the function is not named and is represented by an [expression](https://en.wikipedia.org/wiki/Expression_(mathematics)) $E$, the value of the fuction at, say, $x=4$, may be denoted by $E\\vert_{x=4}$. For example, the value at $4$ of the function that maps $x$ to $(x+1)^2$ may be denoted by $(x+1^2)\\vert_{x=4}$ $\\mathrm{(which\\ results\\ in\\ 25).}^\\mathrm{[citation\\ needed]}$\n",
    "\n",
    "A function is uniquely represented by the set of all [pairs](https://en.wikipedia.org/wiki/Pair_(mathematics)) $(x, f(x))$, called the [graph of the function](https://en.wikipedia.org/wiki/Graph_of_a_function), a popular means of illustrating the function. When the domain and the codomain are sets of real numbers, each such pair may be thought of as the [Cartesian coordinates](https://en.wikipedia.org/wiki/Cartesian_coordinates) of a point in the plane."
   ]
  },
  {
   "attachments": {},
   "cell_type": "markdown",
   "metadata": {},
   "source": [
    "## Definition\n",
    "\n",
    "A function from a [set](https://en.wikipedia.org/wiki/Set_(mathematics)) of $X$ to a set of $Y$ is an assignment of an element of $Y$ to each element of $X$. The set $X$ is called the [domain](https://en.wikipedia.org/wiki/Domain_of_a_function) of the function and the set $Y$ is called the [codomain](https://en.wikipedia.org/wiki/Codomain) of the function.\n",
    "\n",
    "A function, its domain, and its codomain, are declared by the notation $f:X \\to Y$, and the value of a function $f$ at an element $x$ of $X$, denoted by $f(x)$, is called the image of $x$ under $f$, and the value of $f$ applied to the argument $x$.\n",
    "\n",
    "Functions are also called [maps](https://en.wikipedia.org/wiki/Map_(mathematics)) or mappings.\n",
    "\n",
    "Two functions $f$ and $g$ are equal if their domain and codomain sets are the same and their output value agree on the whole domain. More formally, given $f:X \\to Y$ and $g:X \\to Y$, we have $f = g$ if and only if $f(x)=g(x)$ for all $x \\in X$."
   ]
  },
  {
   "attachments": {},
   "cell_type": "markdown",
   "metadata": {},
   "source": [
    "## Notation\n",
    "\n",
    "There are various standard ways for denoting functions. The most commonly used notation is functional notation, which is the first notation described below."
   ]
  },
  {
   "attachments": {},
   "cell_type": "markdown",
   "metadata": {},
   "source": [
    "### __Functional Notation__\n",
    "\n",
    "In functional notation, the function is immediately given a name, such as $f$, and its definition is given by what $f$ does to the explicit argument $x$, using a formula in terms of $x$. For example, the function which takes a real number as input and outputs that number plus $1$ is denoted by\n",
    "\n",
    "$\n",
    "f(x) = x+1\n",
    "$\n",
    "\n",
    "If a function is defined in this notation, its domain and codomain are implicitly taken to both be $\\mathbb{R}$, the set of real numbers. If the formula cannot be evaluated at all real numbers, then the domain is implicitly taken to be the maximal subset of $\\mathbb{R}$ on which the formula can be evaluated; see [Domain of a function](https://en.wikipedia.org/wiki/Domain_of_a_function).\n",
    "\n",
    "A more complicated example is the function\n",
    "\n",
    "$\n",
    "f(x)= \\mathrm{sin}(x+1)^2\n",
    "$\n",
    "\n",
    "In this example, the function $f$ takes a real number as input, squares it, then adds $1$ to the result, then takes the $sine$ of the result, and returns the final result as the output."
   ]
  }
 ],
 "metadata": {
  "kernelspec": {
   "display_name": "ai",
   "language": "python",
   "name": "python3"
  },
  "language_info": {
   "name": "python",
   "version": "3.8.10 (default, Nov 14 2022, 12:59:47) \n[GCC 9.4.0]"
  },
  "orig_nbformat": 4,
  "vscode": {
   "interpreter": {
    "hash": "d6f2081d9e0b7d32ecec298930d2c84146e44d12c2a59792b9d51f0a2535e83c"
   }
  }
 },
 "nbformat": 4,
 "nbformat_minor": 2
}
