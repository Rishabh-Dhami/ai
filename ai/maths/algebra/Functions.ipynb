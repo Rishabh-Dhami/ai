{
 "cells": [
  {
   "attachments": {},
   "cell_type": "markdown",
   "metadata": {},
   "source": [
    "# Functions\n",
    "\n",
    "In [mathematics](https://en.wikipedia.org/wiki/Mathematics), a function from a [set](https://en.wikipedia.org/wiki/Set_(mathematics)) $X$ to a set $Y$ assigns to each element of $X$ exactly one element of $Y$. The set $X$ is called the [domain](https://en.wikipedia.org/wiki/Domain_of_a_function) of the function and the set $Y$ is called the [codomain](https://en.wikipedia.org/wiki/Codomain) of the $\\mathrm{function.}^\\mathrm{[citation\\ needed]}$\n",
    "\n",
    "A function is most often denoted by the letters such as $f$, $g$, and $h$, and the value of the function $f$ at an element $x$ of its domain is denoted by $f(x)$; the numerical value resulting from the _function evaluation_ at a particular input value is denoted by replacing $x$ with this value; for example, the value of $f$ at $x=4$ is denoted by $f(4)$. When the function is not named and is represented by an [expression](https://en.wikipedia.org/wiki/Expression_(mathematics)) $E$, the value of the fuction at, say, $x=4$, may be denoted by $E\\vert_{x=4}$. For example, the value at $4$ of the function that maps $x$ to $(x+1)^2$ may be denoted by $(x+1^2)\\vert_{x=4}$ $\\mathrm{(which\\ results\\ in\\ 25).}^\\mathrm{[citation\\ needed]}$\n",
    "\n",
    "A function is uniquely represented by the set of all [pairs](https://en.wikipedia.org/wiki/Pair_(mathematics)) $(x, f(x))$, called the [graph of the function](https://en.wikipedia.org/wiki/Graph_of_a_function), a popular means of illustrating the function. When the domain and the codomain are sets of real numbers, each such pair may be thought of as the [Cartesian coordinates](https://en.wikipedia.org/wiki/Cartesian_coordinates) of a point in the plane."
   ]
  },
  {
   "attachments": {},
   "cell_type": "markdown",
   "metadata": {},
   "source": [
    "## Definition\n",
    "\n",
    "A function from a [set](https://en.wikipedia.org/wiki/Set_(mathematics)) of $X$ to a set of $Y$ is an assignment of an element of $Y$ to each element of $X$. The set $X$ is called the [domain](https://en.wikipedia.org/wiki/Domain_of_a_function) of the function and the set $Y$ is called the [codomain](https://en.wikipedia.org/wiki/Codomain) of the function.\n",
    "\n",
    "A function, its domain, and its codomain, are declared by the notation $f:X \\to Y$, and the value of a function $f$ at an element $x$ of $X$, denoted by $f(x)$, is called the image of $x$ under $f$, and the value of $f$ applied to the argument $x$.\n",
    "\n",
    "Functions are also called [maps](https://en.wikipedia.org/wiki/Map_(mathematics)) or mappings.\n",
    "\n",
    "Two functions $f$ and $g$ are equal if their domain and codomain sets are the same and their output value agree on the whole domain. More formally, given $f:X \\to Y$ and $g:X \\to Y$, we have $f = g$ if and only if $f(x)=g(x)$ for all $x \\in X$."
   ]
  },
  {
   "attachments": {},
   "cell_type": "markdown",
   "metadata": {},
   "source": [
    "## Notation\n",
    "\n",
    "There are various standard ways for denoting functions. The most commonly used notation is functional notation, which is the first notation described below."
   ]
  },
  {
   "attachments": {},
   "cell_type": "markdown",
   "metadata": {},
   "source": [
    "### __Functional Notation__\n",
    "\n",
    "In functional notation, the function is immediately given a name, such as $f$, and its definition is given by what $f$ does to the explicit argument $x$, using a formula in terms of $x$. For example, the function which takes a real number as input and outputs that number plus $1$ is denoted by\n",
    "\n",
    "$f(x) = x+1$\n",
    "\n",
    "If a function is defined in this notation, its domain and codomain are implicitly taken to both be $\\mathbb{R}$, the set of real numbers. If the formula cannot be evaluated at all real numbers, then the domain is implicitly taken to be the maximal subset of $\\mathbb{R}$ on which the formula can be evaluated; see [Domain of a function](https://en.wikipedia.org/wiki/Domain_of_a_function).\n",
    "\n",
    "A more complicated example is the function\n",
    "\n",
    "$f(x)= \\mathrm{sin}(x+1)^2$\n",
    "\n",
    "In this example, the function $f$ takes a real number as input, squares it, then adds $1$ to the result, then takes the $sine$ of the result, and returns the final result as the output."
   ]
  },
  {
   "attachments": {},
   "cell_type": "markdown",
   "metadata": {},
   "source": [
    "### __Arrow Notation__\n",
    "\n",
    "Arrow notation defines the rule of a function inline, without requiring a name to be given to the function. For example, $x \\mapsto x+1$ is the function which takes a real number as input and outputs that number plus $1$. Again a domain and codomain of $\\mathbb{R}$ is implied.\n",
    "\n",
    "The domain and codomain can also be explicitly stated, for example:\n",
    "\n",
    "$\n",
    "\\begin{aligned}\n",
    "\\operatorname{sqr} \\colon \\mathbb{Z} & \\to \\mathbb{Z} \\\\\n",
    "x & \\mapsto x^{2}.\n",
    "\\end{aligned}\n",
    "$\n",
    "\n",
    "This defines a function $sqr$ from the integers to the integers that returns the square of its input.\n",
    "\n",
    "As a common application of the arrow notation, suppose $f \\colon X \\times X \\to Y; \\;(x,t) \\mapsto f(x,t)$ is a function in two variables, and we want to refer to a [partially applied function](https://en.wikipedia.org/wiki/Partial_application) $X \\to Y$ produced by fixing the second argument to the value $t_{0}$ without introducing a new function name. The map in question could be denoted $x \\mapsto f(x,t_{0})$ using the arrow notation. The expression $x \\mapsto f(x,t_{0})$ (read: \"the map taking $x$ to $f(x, t_{0})$\") represents this new function with just one argument, whereas the expression $f(x_{0}, t_{0})$ refers to the value of the function $f$ at the point $(x_{0}, t_{0})$."
   ]
  },
  {
   "attachments": {},
   "cell_type": "markdown",
   "metadata": {},
   "source": [
    "### __Index Notation__\n",
    "\n",
    "Index notation is often used instead of functional notation. That is, instead of writing $f(x)$, one writes $f_{x}$.\n",
    "\n",
    "This is typically the case for functions whose domain is the set of the [natural numbers](https://en.wikipedia.org/wiki/Natural_number). Such a function is called a [sequence](https://en.wikipedia.org/wiki/Sequence_(mathematics)), and, in this case the element $f_{n}$ is called the $nth$ element of the sequence.\n",
    "\n",
    "The index notation is also often used for distinguishing some variables called [parameters](https://en.wikipedia.org/wiki/Parameter) from the \"true variables\". In fact, parameters are specific variables that are considered as being fixed during the study of a problem. For example, the map $x \\mapsto f(x,t)$ would be denoted $f_{t}$ using index notation, if we define the collection of maps $f_{t}$ by the formula $f_{t}(x)=f(x, t)$ for all $x, t \\in X$."
   ]
  },
  {
   "attachments": {},
   "cell_type": "markdown",
   "metadata": {},
   "source": [
    "### __Dot Notation__\n",
    "\n",
    "In the notation $x \\mapsto f(x)$, the symbol $x$ does not represent any value, it is simply a [placeholder](https://en.wikipedia.org/wiki/Placeholder_name) meaning that, if $x$ is replaced by any value on the left of the arrow, it should be replaced by the same value on the right of the arrow. Therefore, $x$ may be replaced by any symbol, often an [interpunct](https://en.wikipedia.org/wiki/Interpunct) \"$⋅$\". This may be useful for distinguishing the function $f(⋅)$ from its value $f(x)$ at $x$.\n",
    "\n",
    "For example, $a(.)^2$ may stand for the function $x \\mapsto ax^2$, and $\\int_a^\\mathrm{(.)} f(u) \\: \\mathrm{d}u$ may stand for a function defined by an integral with variable upper bound: $x \\mapsto \\int_a^x f(u) \\: \\mathrm{d}u$."
   ]
  }
 ],
 "metadata": {
  "kernelspec": {
   "display_name": "ai",
   "language": "python",
   "name": "python3"
  },
  "language_info": {
   "name": "python",
   "version": "3.8.10 (default, Nov 14 2022, 12:59:47) \n[GCC 9.4.0]"
  },
  "orig_nbformat": 4,
  "vscode": {
   "interpreter": {
    "hash": "d6f2081d9e0b7d32ecec298930d2c84146e44d12c2a59792b9d51f0a2535e83c"
   }
  }
 },
 "nbformat": 4,
 "nbformat_minor": 2
}
