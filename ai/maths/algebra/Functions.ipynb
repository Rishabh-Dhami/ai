{
 "cells": [
  {
   "attachments": {},
   "cell_type": "markdown",
   "metadata": {},
   "source": [
    "# Functions\n",
    "\n",
    "In [mathematics](https://en.wikipedia.org/wiki/Mathematics), a function from a [set](https://en.wikipedia.org/wiki/Set_(mathematics)) $X$ to a set $Y$ assigns to each element of $X$ exactly one element of $Y$. The set $X$ is called the [domain](https://en.wikipedia.org/wiki/Domain_of_a_function) of the function and the set $Y$ is called the [codomain](https://en.wikipedia.org/wiki/Codomain) of the $\\mathrm{function.}^\\mathrm{[citation\\ needed]}$\n",
    "\n",
    "A function is most often denoted by the letters such as $f$, $g$, and $h$, and the value of the function $f$ at an element $x$ of its domain is denoted by $f(x)$; the numerical value resulting from the _function evaluation_ at a particular input value is denoted by replacing $x$ with this value; for example, the value of $f$ at $x=4$ is denoted by $f(4)$. When the function is not named and is represented by an [expression](https://en.wikipedia.org/wiki/Expression_(mathematics)) $E$, the value of the fuction at, say, $x=4$, may be denoted by $E\\vert_{x=4}$. For example, the value at $4$ of the function that maps $x$ to $(x+1)^2$ may be denoted by $(x+1^2)\\vert_{x=4}$ $\\mathrm{(which\\ results\\ in\\ 25).}^\\mathrm{[citation\\ needed]}$\n",
    "\n",
    "A function is uniquely represented by the set of all [pairs](https://en.wikipedia.org/wiki/Pair_(mathematics)) $(x, f(x))$, called the [graph of the function](https://en.wikipedia.org/wiki/Graph_of_a_function), a popular means of illustrating the function. When the domain and the codomain are sets of real numbers, each such pair may be thought of as the [Cartesian coordinates](https://en.wikipedia.org/wiki/Cartesian_coordinates) of a point in the plane."
   ]
  }
 ],
 "metadata": {
  "kernelspec": {
   "display_name": "ai",
   "language": "python",
   "name": "python3"
  },
  "language_info": {
   "name": "python",
   "version": "3.8.10 (default, Nov 14 2022, 12:59:47) \n[GCC 9.4.0]"
  },
  "orig_nbformat": 4,
  "vscode": {
   "interpreter": {
    "hash": "d6f2081d9e0b7d32ecec298930d2c84146e44d12c2a59792b9d51f0a2535e83c"
   }
  }
 },
 "nbformat": 4,
 "nbformat_minor": 2
}
