{
 "cells": [
  {
   "attachments": {},
   "cell_type": "markdown",
   "metadata": {},
   "source": [
    "# How to evaluate an expression with one variable\n",
    "\n",
    "Let's say we want to evaluate the expression $a+4$. Well, first we need to know the value of the variable $a$. For example, to evaluate the expression when $a=1$, we just replace $a$ with $1$: $a+4$\n",
    "\n",
    "$\\Rightarrow 1 + 4$\n",
    "\n",
    "$\\Rightarrow 5$\n",
    "\n",
    "So, the expression $a+4$ equals to $5$ when $a=1$.\n",
    "\n",
    "We can just as easily evaluate $a+4$ when $a=5$: $a+4$\n",
    "\n",
    "$\\Rightarrow 5 + 4$\n",
    "\n",
    "$\\Rightarrow 9$\n",
    "\n",
    "So, the expression $a+4$ equals to $9$ when $a=5$."
   ]
  },
  {
   "attachments": {},
   "cell_type": "markdown",
   "metadata": {},
   "source": [
    "# Evaluating an expression with multiplication\n",
    "\n",
    "You might be asked to __\"Evaluate $3x$ when $x = 5$.\"__\n",
    "\n",
    "Notice how the number $3$ is right next to the variable $x$ in the expression $3x$. This means \"$3$ times $x$\". The reason we do this is because of the old way of showing multiplication with the symbol $\\times$ looks confusingly similar to the variable $x$.\n",
    "\n",
    "Okay, so now let's solve the problem: $3x$\n",
    "\n",
    "$\\Rightarrow 3 ⋅ x$\n",
    "\n",
    "$\\Rightarrow 15$\n",
    "\n",
    "So, the expression $3x$ equals $15$ when $x=5$."
   ]
  },
  {
   "attachments": {},
   "cell_type": "markdown",
   "metadata": {},
   "source": [
    "# Evaluating expressions where order of operations matter\n",
    "\n",
    "The order of operations is a rule that tells the correct sequence of steps for evaluating a math expression. We can remember the order using __`PEMDAS`__: __Parentheses, Exponents, Multiplication and Division (from left to right), Addition and Subtraction (from left to right)__.\n",
    "\n",
    "Let's take a look at an example:\n",
    "\n",
    "__Evaluate $5+3e$ when $e=4$.__\n",
    "\n",
    "$5+3e$\n",
    "\n",
    "$=5 + 3⋅4$\n",
    "\n",
    "$=5 + 12$\n",
    "\n",
    "$=17$\n",
    "\n",
    "So, the expression $5+3e$ equals $17$ when $e=4$."
   ]
  }
 ],
 "metadata": {
  "kernelspec": {
   "display_name": "ai",
   "language": "python",
   "name": "python3"
  },
  "language_info": {
   "name": "python",
   "version": "3.8.10 (default, Nov 14 2022, 12:59:47) \n[GCC 9.4.0]"
  },
  "orig_nbformat": 4,
  "vscode": {
   "interpreter": {
    "hash": "d6f2081d9e0b7d32ecec298930d2c84146e44d12c2a59792b9d51f0a2535e83c"
   }
  }
 },
 "nbformat": 4,
 "nbformat_minor": 2
}
