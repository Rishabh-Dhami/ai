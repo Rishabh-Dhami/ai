{
 "cells": [
  {
   "attachments": {},
   "cell_type": "markdown",
   "metadata": {},
   "source": [
    "# How to evaluate an expression with one variable\n",
    "\n",
    "Let's say we want to evaluate the expression $a+4$. Well, first we need to know the value of the variable $a$. For example, to evaluate the expression when $a=1$, we just replace $a$ with $1$: $a+4$\n",
    "\n",
    "$ \\Rightarrow 1 + 4 $\n",
    "\n",
    "$ \\Rightarrow 5 $\n",
    "\n",
    "So, the expression $a+4$ equals to $5$ when $a=1$.\n",
    "\n",
    "We can just as easily evaluate $a+4$ when $a=5$: $a+4$\n",
    "\n",
    "$ \\Rightarrow 5 + 4 $\n",
    "\n",
    "$ \\Rightarrow 9 $\n",
    "\n",
    "So, the expression $a+4$ equals to $9$ when $a=5$."
   ]
  }
 ],
 "metadata": {
  "language_info": {
   "name": "python"
  },
  "orig_nbformat": 4
 },
 "nbformat": 4,
 "nbformat_minor": 2
}
