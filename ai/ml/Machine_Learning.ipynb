{
  "cells": [
    {
      "cell_type": "markdown",
      "metadata": {
        "id": "bAd3NLB_Dfmx"
      },
      "source": [
        "# Machine Learning"
      ]
    },
    {
      "cell_type": "markdown",
      "metadata": {
        "id": "TwWj-1U8BrAv"
      },
      "source": [
        "# Introduction to ML\n",
        "\n",
        "Machine learning is a field of inquiry devoted to understanding and building methods that __'learn'__, that is, methods that leverage data to improve performance on some set of tasks. It is seen as a part of artificial intelligence.\n",
        "\n",
        "_**इति निर्दोषयन्त्राणां ज्ञानप्राप्तेः आरम्भः**_\n",
        "\n",
        "__ये प्रारम्भ है अबोध मशीनो का ज्ञान अर्जित करने का।__\n",
        "\n",
        "## Additional information\n",
        "\n",
        "* _Rules of Machine Learning,_ [Rule #1: Don't be afraid to launch a product without machine learning](https://developers.google.com/machine-learning/rules-of-ml/#rule_1_dont_be_afraid_to_launch_a_product_without_machine_learning)"
      ]
    },
    {
      "cell_type": "markdown",
      "metadata": {},
      "source": [
        "## Framing: Key ML Terminology\n",
        "\n",
        "What is (supervised) machine learning? Concisely put, it is the following:\n",
        "\n",
        "* ML systems learn how to combine input to produce useful predictions on never-before-seen data.\n",
        "\n",
        "Let's explore fundamental machine learning terminology.\n",
        "\n",
        "## Labels\n",
        "\n",
        "A __label__ is the thing we are predicting - the `y` variable in simple linear regression. The label could be the future price of wheat, the kind of animal shown in the picture, the meaning of an audio clip, or just about anything.\n",
        "\n",
        "## Features\n",
        "\n",
        "A __feature__ is an input variable - the `x` variable in simple linera regression. A simple machine learning project might use a single feature, while a more sophisticated machine learning project could use millions of features, specified as:\n",
        "\n",
        "$$x1,x2,...,xn$$\n",
        "\n",
        "In the \"spam detector\" example, the features could include the following:\n",
        "\n",
        "* words in the email text\n",
        "* sender's address\n",
        "* time of day the email was sent\n",
        "* email contains the phrase \"one weird trick.\"\n",
        "\n",
        "## Examples\n",
        "\n",
        "An __example__ is a particular instance of data, __x__. (We put __x__ in boldface to indicate that it is a vector.) We break __examples__ into two categories:\n",
        "\n",
        "* labeled examples\n",
        "* unlabeled examples\n",
        "\n",
        "A __labeled example__ includes both feature(s) and the label. That is:\n",
        "\n",
        "```\n",
        "labeled examples: {features, label}: (x, y)\n",
        "```\n",
        "\n",
        "Use __labeled examples__ to train the model. In our \"span detector\" example, the labeled examples would be individual emails that users have explicitly marked as \"spam\" or \"not spam.\"\n",
        "\n",
        "For example, the following table shows 5 labeled examples from a data set containing information about housing prices in California:\n",
        "\n",
        "__HousingMedianAge (feature)__ | __TotalRooms (feature)__ | __TotalBedrooms (feature)__ | __MedianHouseValue (feature)__\n",
        ":--|:--:|:--:|--:\n",
        "15 | 5612 | 1283 | 66900\n",
        "19 | 7650 | 1901 | 80100\n",
        "17 | 720 | 174 | 85700\n",
        "14 |\t1501 |\t337\t| 73400\n",
        "20\t| 1454 |\t326 |\t65500\n",
        "\n",
        "An __unlabeled example__ contains feature(s) but not the label. That is:\n",
        "\n",
        "```\n",
        "unlabeled examples: {features, ?}: (x, ?)\n",
        "```\n",
        "\n",
        "Here are 3 unlabeled examples from the same housing dataset, which exclude __`MedianHouseValue`__:\n",
        "\n",
        "__HousingMedianAge (feature)__ |\t__TotalRooms (feature)__ |\t__TotalBedrooms (feature)__\n",
        ":--|:--:|--:\n",
        "42 |\t1686 |\t361\n",
        "34 |\t1226 |\t180\n",
        "33 |\t1077 |\t271\n",
        "\n",
        "Once we've trained our model with labeled examples, we use that model to predict the label on unlabeled examples. In the spam detector, unlabeled examples are new emails that humans haven't yet labeled.\n",
        "\n",
        "## Models\n",
        "\n",
        "A model defines the relationship between feature(s) and label. For example, a span detector might associate certain features strongly with \"spam\". Let's highlight two phases of a model's life:\n",
        "\n",
        "* __Training__ means __creating__ or __learning__ the model. That is, you show the model labeled examples and enable the model to gradually learn the relationships between features and label.\n",
        "\n",
        "* __Inference__ means applying the trained model to unlabeled examples. That is, you use the trained model to make useful predictions (`y'`). For example, during __inference__, you can predict __MedianHouseValue__ for new unlabeled examples.\n",
        "\n",
        "## Regression vs. classification\n",
        "\n",
        "A __regression__ model predicts continuous values. For example, regression models make predictions that answer questions like the following:\n",
        "\n",
        "* What is the value of a house in California?\n",
        "* What is the probability that a user will click on this ad?\n",
        "\n",
        "A __classification__ model predicts discrete values. For example, classification models make predictions that answer questions like the following:\n",
        "\n",
        "* Is a given email message spam or not spam?\n",
        "* Is this an image of a dog, a cat, or a hamster?"
      ]
    }
  ],
  "metadata": {
    "colab": {
      "provenance": []
    },
    "kernelspec": {
      "display_name": "Python 3",
      "language": "python",
      "name": "python3"
    },
    "language_info": {
      "name": "python",
      "version": "3.9.5 (default, Nov 23 2021, 15:27:38) \n[GCC 9.3.0]"
    },
    "vscode": {
      "interpreter": {
        "hash": "f9f85f796d01129d0dd105a088854619f454435301f6ffec2fea96ecbd9be4ac"
      }
    }
  },
  "nbformat": 4,
  "nbformat_minor": 0
}
