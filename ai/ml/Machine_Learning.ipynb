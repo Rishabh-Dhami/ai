{
  "nbformat": 4,
  "nbformat_minor": 0,
  "metadata": {
    "colab": {
      "provenance": []
    },
    "kernelspec": {
      "name": "python3",
      "display_name": "Python 3"
    },
    "language_info": {
      "name": "python"
    }
  },
  "cells": [
    {
      "cell_type": "markdown",
      "source": [
        "# Machine Learning"
      ],
      "metadata": {
        "id": "bAd3NLB_Dfmx"
      }
    },
    {
      "cell_type": "markdown",
      "source": [
        "# Introduction to ML\n",
        "\n",
        "Machine learning is a field of inquiry devoted to understanding and building methods that __'learn'__, that is, methods that leverage data to improve performance on some set of tasks. It is seen as a part of artificial intelligence.\n",
        "\n",
        "_**इति निर्दोषयन्त्राणां ज्ञानप्राप्तेः आरम्भः**_\n",
        "\n",
        "__ये प्रारम्भ है अबोध मशीनो का ज्ञान अर्जित करने का।__\n",
        "\n",
        "## Additional information\n",
        "\n",
        "* _Rules of Machine Learning,_ [Rule #1: Don't be afraid to launch a product without machine learning](https://developers.google.com/machine-learning/rules-of-ml/#rule_1_dont_be_afraid_to_launch_a_product_without_machine_learning)"
      ],
      "metadata": {
        "id": "TwWj-1U8BrAv"
      }
    },
    {
      "cell_type": "markdown",
      "source": [
        "# Framing\n",
        "\n",
        "This module investigates how to frame a task as a machine learning problem, and covers many of the basic vocabulary terms shared across a wide range of machine learning (ML) methods.\n",
        "\n",
        "## What is (Supervised) Machine Learning?\n",
        "\n",
        "Machine learning systems that learn how to combine input to produce useful predictions on never-before-seen data.\n",
        "\n",
        "## Terminology: Labels, Features, Examples, and Models\n",
        "\n",
        "* __Label__ is the variable we are predicting; typically represented by the variable __y__.\n",
        "* __Features__ are input variables describing our data; typically represented by variables __{x1,x2,...,xn}__.\n",
        "* __Example__ is a particular instance of data __x__.\n",
        "* __Labeled Example__ has {features, labels}: __{x, y}__; used to train model.\n",
        "* __Unlabeled Example__ has {features, ?}: __{x, ?}__; used for making predictions on new data.\n",
        "* __Model__ maps examples to predicted labels: __y'__.\n",
        "  * Defined by internal parameters, which are learned."
      ],
      "metadata": {
        "id": "y9N9txxZD6aX"
      }
    }
  ]
}