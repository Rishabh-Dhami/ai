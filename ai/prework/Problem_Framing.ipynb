{
 "cells": [
  {
   "attachments": {},
   "cell_type": "markdown",
   "metadata": {},
   "source": [
    "# Introduction to Machine Learning Problem Framing\n",
    "\n",
    "_Introduction to Machine Learning Problem Framing_ teaches you how to determine if ML is a good approach for a problem and explains how to outline an ML solution."
   ]
  },
  {
   "attachments": {},
   "cell_type": "markdown",
   "metadata": {},
   "source": [
    "## Overview\n",
    "\n",
    "__Problem framing__ is the process of analyzing a problem to isolate the individual elements that need to be addressed to solve it. Problem framing helps determine your project's technical feasibility and provides a clear set of goals and success criteria. When considering an ML solution, effective problem framing can determine whether or not your product ultimately succeeds.\n",
    "\n",
    "> Formal problem framing is the critical beginning for solving an ML problem, as it forces us to better understand both the problem and the data in order to design and build a bridge between them. - _TensorFlow engineer_\n",
    "\n",
    "At a high level, ML problem framing consists of two distinct steps:\n",
    "\n",
    "1. Determining whether ML is a right approach for solving a problem.\n",
    "2. Framing the problem in ML terms.\n",
    "\n",
    "### Questions\n",
    "\n",
    "__Q1. Why is problem framing important?__\n",
    "\n",
    "> Problem framing ensures that an ML approach is a good solution to the problem before beginning to work with data and train a model."
   ]
  },
  {
   "attachments": {},
   "cell_type": "markdown",
   "metadata": {},
   "source": [
    "## Understand the problem\n",
    "\n",
    "To understand the problem, perform the following tasks:\n",
    "\n",
    "* State the goal for the product you are developing or refactoring.\n",
    "* Determine whether the goal is best solved using ML.\n",
    "* Verify you have the data required to train a model.\n",
    "\n",
    "### State the goal\n",
    "\n",
    "Begin by stating your goal in non-ML terms. The goal is the answer to the question \"What am I trying to accomplish?\"\n",
    "\n",
    "The following table clearly states goals for hypothetical apps:\n",
    "\n",
    "__Application__ |\t__Goal__\n",
    ":--|:--\n",
    "Weather app\t| Calculate precipitation in six-hour increments for a geographic region.\n",
    "Video app |\tRecommend useful videos.\n",
    "Mail app |\tDetect spam.\n",
    "Map app\t| Calculate travel time.\n",
    "Banking app |\tIdentify fraudulent transactions.\n",
    "Dining app\t| Identify cuisine by a restaurant's menu.\n",
    "\n",
    "### Clear use case for ML\n",
    "\n",
    "Some view ML as a universal tool that can be applied to all problems. In reality, ML is a specialized tool suitable only for particular problems. You don't want to implement a complex ML solution when a simpler non-ML solution will work.\n",
    "\n",
    "To confirm that ML is the right approach, first verify that your current non-ML solution is optimized. If you don't have a non-ML solution implemented, try solving the problem manually using a [__heuristic__](https://developers.google.com/machine-learning/glossary#heuristic).\n",
    "\n",
    "The non-ML solution is the benchmark you'll use to determine whether ML is a good use case for your problem. Consider the following questions when comparing a non-ML approach to an ML one:\n",
    "\n",
    "* __Quality:__ How much better do you think an ML solution can be? If you think an ML solution might be only a small improvement, that might indicate the current solution is the best one.\n",
    "* __Cost and maintenance:__ How expensive is the ML solution in both the short- and long-term? In some cases, it costs significantly more in terms of compute resources and time to implement ML. Consider the following questions:\n",
    "  * Can the ML solution justify the increase in cost? Note that small improvements in large systems can easily justify the cost and maintenance of implementing an ML solution.\n",
    "  * How much maintenance will the solution require? In many cases, ML implementations need dedicated long-term maintenance.\n",
    "  * Does your product have the resources to support training or hiring people with ML expertise?\n",
    "\n",
    "### Questions\n",
    "\n",
    "__Q1. Why is it important to have a non-ML solution or heuristic in place before analyzing an ML solution?__\n",
    "\n",
    "> A non-ML solution is the benchmark to measure an ML solution against."
   ]
  }
 ],
 "metadata": {
  "language_info": {
   "name": "python"
  },
  "orig_nbformat": 4
 },
 "nbformat": 4,
 "nbformat_minor": 2
}
