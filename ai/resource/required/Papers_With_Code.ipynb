{
 "cells": [
  {
   "attachments": {},
   "cell_type": "markdown",
   "metadata": {},
   "source": [
    "# Papers With Code\n",
    "\n",
    "The mission of [Papers with Code](https://paperswithcode.com/) is to create a free and open resource with Machine Learning papers, code, datasets, methods and evaluation tables.\n",
    "\n",
    "It is supported by NLP and ML.\n",
    "\n",
    "All content on this website is openly licensed under CC-BY-SA and everyone can contribute.\n",
    "\n",
    "We also operate [specialized portals](https://portal.paperswithcode.com/) for papers with code in astronomy, physics, computer sciences, mathematics and statistics."
   ]
  }
 ],
 "metadata": {
  "language_info": {
   "name": "python"
  },
  "orig_nbformat": 4
 },
 "nbformat": 4,
 "nbformat_minor": 2
}
